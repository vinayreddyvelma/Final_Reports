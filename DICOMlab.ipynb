{
 "cells": [
  {
   "cell_type": "markdown",
   "metadata": {},
   "source": [
    "Introduction\n",
    "--------------\n",
    "\n",
    "DICOM is the most popular standard used in medicine for image exchange. The name is derived from **D**igital **I**maging and **CO**mmunication in **M**edicine. It allows to have medical information in the images as a standard file that is independent from the manufacturer. This means that it is possible to have images from MR scanners made by a GE system and display it in a  picture archive system (PACS) from Agfa without any loss or without need of any proprietary information. It also allows opening the image in MATLAB, Python or any language without need to know how GE formatted the image file.\n",
    "\n",
    "We will open here a DICOM image and see some of the information that is stored in the header of the image. You will have for your assignment to retrieve other information from this same image.\n",
    "\n",
    "Python provides some tools for DICOM image opening in the package **PyDICOM**.\n",
    "\n",
    "Your installation will likely be missing this package, so you can install it using Anaconda. Open an Anaconda Prompt and type **pip install pydicom**. The version that would likely be installed is pydicom-0.9.9"
   ]
  },
  {
   "cell_type": "code",
   "execution_count": 2,
   "metadata": {
    "scrolled": true
   },
   "outputs": [
    {
     "name": "stdout",
     "output_type": "stream",
     "text": [
      "(0008, 0000) Group Length                        UL: 342\n",
      "(0008, 0008) Image Type                          CS: ['ORIGINAL', 'PRIMARY', 'TTE', '0001']\n",
      "(0008, 0016) SOP Class UID                       UI: Ultrasound Multi-frame Image Storage\n",
      "(0008, 0018) SOP Instance UID                    UI: 999.999.2.19941105.134500.2.101\n",
      "(0008, 0020) Study Date                          DA: '1994.11.05'\n",
      "(0008, 0023) Content Date                        DA: '1994.11.05'\n",
      "(0008, 0030) Study Time                          TM: '13:45:00'\n",
      "(0008, 0060) Modality                            CS: 'US'\n",
      "(0008, 0070) Manufacturer                        LO: 'Acme Products'\n",
      "(0008, 0090) Referring Physician's Name          PN: 'Anonymized'\n",
      "(0008, 1030) Study Description                   LO: 'Exercise Echocardiogram'\n",
      "(0008, 103e) Series Description                  LO: 'Post-Stress'\n",
      "(0008, 2120) Stage Name                          SH: 'Post-Exercise'\n",
      "(0008, 2122) Stage Number                        IS: '2'\n",
      "(0008, 2124) Number of Stages                    IS: '2'\n",
      "(0008, 2128) View Number                         IS: '1'\n",
      "(0008, 212a) Number of Views in Stage            IS: '4'\n",
      "(0008, 2204) Transducer Orientation              CS: 'LONG AXIS'\n",
      "(0010, 0000) Group Length                        UL: 18\n",
      "(0010, 0010) Patient's Name                      PN: 'Anonymized'\n",
      "(0018, 0000) Group Length                        UL: 40\n",
      "(0018, 1030) Protocol Name                       LO: 'Exer - 2 Stg fd (W)'\n",
      "(0018, 1063) Frame Time                          DS: '100'\n",
      "(0020, 0000) Group Length                        UL: 92\n",
      "(0020, 000d) Study Instance UID                  UI: 999.999.2.19941105.134500\n",
      "(0020, 000e) Series Instance UID                 UI: 999.999.2.19941105.134500.2\n",
      "(0020, 0011) Series Number                       IS: '2'\n",
      "(0020, 0013) Instance Number                     IS: '101'\n",
      "(0028, 0000) Group Length                        UL: 124\n",
      "(0028, 0002) Samples per Pixel                   US: 1\n",
      "(0028, 0004) Photometric Interpretation          CS: 'MONOCHROME2'\n",
      "(0028, 0008) Number of Frames                    IS: '8'\n",
      "(0028, 0009) Frame Increment Pointer             AT: (0018, 1063)\n",
      "(0028, 0010) Rows                                US: 120\n",
      "(0028, 0011) Columns                             US: 128\n",
      "(0028, 0034) Pixel Aspect Ratio                  IS: ['4', '3']\n",
      "(0028, 0100) Bits Allocated                      US: 8\n",
      "(0028, 0101) Bits Stored                         US: 8\n",
      "(0028, 0102) High Bit                            US: 7\n",
      "(0028, 0103) Pixel Representation                US: 0\n",
      "(7fe0, 0000) Group Length                        UL: 122892\n",
      "(7fe0, 0010) Pixel Data                          OB: Array of 122880 bytes\n"
     ]
    }
   ],
   "source": [
    "%matplotlib inline\n",
    "from skimage import novice, data, io, exposure\n",
    "import numpy as np\n",
    "import matplotlib.pyplot as plt\n",
    "import matplotlib.image as mpimg\n",
    "import dicom\n",
    "\n",
    "#it is possible that in some installations pyDICOM won't be available in which case you will have to install it through pip\n",
    "\n",
    "# Get file\n",
    "RefDs = dicom.read_file('US-MONO2-8-8x-execho.dcm')\n",
    "# Let's print all the Metadata here\n",
    "print(RefDs)\n",
    "\n",
    "\n"
   ]
  },
  {
   "cell_type": "markdown",
   "metadata": {},
   "source": [
    "You can browse through that Metadata and see all the information about this image. We can already easily find out this was a Magnetic Resonance Image made with a Philips system.\n",
    "\n",
    "Let's answer the following questions with the Metadata:\n",
    "* What is the size in pixels of the image? There are two ways to obtain this information, find them both.\n",
    "* What is the number of bits used to encode the image?\n",
    "* What is the full name of the vendor and the model of the scanner used to do this image?\n",
    "* When was this image taken? Is this consistent with the file date?\n",
    "* Which body part was the focus of the study? \n",
    "* Was the subject a man or a woman?\n",
    "* Can you find the patient name in this particular example? Why?\n"
   ]
  },
  {
   "cell_type": "markdown",
   "metadata": {},
   "source": [
    "Since this is an educational image, the volunteer's privacy is protected by never entering the name in the DICOM image. We can now exchange the image without any issues.\n",
    "\n",
    "Let's now show the image. First, we need to dimension an array with all the pixels in the image. Then, we can load the information and then show the image."
   ]
  },
  {
   "cell_type": "code",
   "execution_count": null,
   "metadata": {
    "collapsed": true
   },
   "outputs": [],
   "source": [
    "ConstPixelDims = (int(RefDs.Rows), int(RefDs.Columns))\n",
    "ArrayDicom = np.zeros(ConstPixelDims, dtype=RefDs.pixel_array.dtype)\n",
    "ds = dicom.read_file('US-MONO2-8-8x-execho.dcm')\n",
    "ArrayDicom[:,:]=ds.pixel_array\n",
    "\n",
    "#plt.figure()\n",
    "fig=plt.figure(figsize=(10, 10), dpi= 80, facecolor='w', edgecolor='k')\n",
    "plt.axes().set_aspect('equal') #this makes the image square\n",
    "plt.set_cmap(plt.gray()) #grayscale\n",
    "x=np.arange(RefDs.Rows)\n",
    "y=np.arange(RefDs.Columns)\n",
    "\n",
    "plt.pcolormesh(x, y, np.flipud(ArrayDicom[:, :]))\n",
    "plt.axis([x.min(),x.max(),y.min(),y.max()])"
   ]
  },
  {
   "cell_type": "markdown",
   "metadata": {},
   "source": [
    "## Summary"
   ]
  },
  {
   "cell_type": "markdown",
   "metadata": {},
   "source": [
    "In this example we learned how to open and display a DICOM image and how to access Metadata in the DICOM file.\n",
    "\n",
    "Test your knowledge:\n",
    "\n",
    "* Add a title to the figure where you show the date of acquisition and the organ that was imaged (obtain this information from the metadata in the DICOM.\n",
    "* Why was it needed to add the line **from datetime import datetime** in the code?\n",
    "* Make that image larger in the screen (you have some code to do this from older notebooks!)\n",
    "* Make this image interactive and play with the interactive tools\n",
    "\n",
    "Comments and corrections welcome!"
   ]
  },
  {
   "cell_type": "markdown",
   "metadata": {},
   "source": [
    "References\n",
    "---------------\n",
    "\n",
    "* https://pyscience.wordpress.com/2014/09/08/dicom-in-python-importing-medical-image-data-into-numpy-with-pydicom-and-vtk/"
   ]
  },
  {
   "cell_type": "code",
   "execution_count": null,
   "metadata": {
    "collapsed": true
   },
   "outputs": [],
   "source": []
  }
 ],
 "metadata": {
  "kernelspec": {
   "display_name": "Python 2",
   "language": "python",
   "name": "python2"
  }
 },
 "nbformat": 4,
 "nbformat_minor": 1
}
